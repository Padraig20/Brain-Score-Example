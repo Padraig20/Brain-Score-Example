{
 "cells": [
  {
   "cell_type": "markdown",
   "metadata": {},
   "source": [
    "# Brain-Score Benchmarking\n",
    "\n",
    "In this notebook, I will try to benchmark my own models with brain-score and, in a simplified way, test the effectiveness of aligning object-detection models with neuroanatomy.\n",
    "\n",
    "I tried to base my code on the [official tutorial](https://github.com/brain-score/candidate_models/blob/master/examples/score-model.ipynb), but it seems to be deprecated as not even the imports work. In the end, not even the guides on the brain-score website helped me, so I had to dive into the implementation of the packages themselves. After lots of trial-and-error, I finally made it work properly."
   ]
  },
  {
   "cell_type": "code",
   "execution_count": 29,
   "metadata": {
    "colab": {
     "base_uri": "https://localhost:8080/"
    },
    "id": "3KgGVm5bdvek",
    "outputId": "5e9e7fd7-04cf-44ac-f1a8-2e1e02e9dafb"
   },
   "outputs": [],
   "source": [
    "import numpy as np\n",
    "import torch\n",
    "from torch import nn\n",
    "import torch.nn.functional as F\n",
    "import functools\n",
    "from brainscore_vision.model_helpers.activations.pytorch import load_preprocess_images\n",
    "from brainscore_vision.model_helpers.activations.pytorch import PytorchWrapper\n",
    "from brainscore_vision.model_helpers.brain_transformation import ModelCommitment\n",
    "from brainscore_vision import model_registry\n",
    "from brainscore_vision import benchmark_registry\n",
    "from brainscore_vision.benchmarks.majajhong2015 import __init__"
   ]
  },
  {
   "cell_type": "markdown",
   "metadata": {},
   "source": [
    "We are using a simple, non-brain-aligned model with a few layers as baseline."
   ]
  },
  {
   "cell_type": "code",
   "execution_count": null,
   "metadata": {
    "id": "YFiMt30KdbgY"
   },
   "outputs": [],
   "source": [
    "class MyModel(nn.Module):\n",
    "    def __init__(self):\n",
    "        super(MyModel, self).__init__()\n",
    "        self.conv1 = torch.nn.Conv2d(in_channels=3, out_channels=2, kernel_size=3)\n",
    "        self.relu1 = torch.nn.ReLU()\n",
    "        linear_input_size = np.power((224 - 3 + 2 * 0) / 1 + 1, 2) * 2\n",
    "        self.linear = torch.nn.Linear(int(linear_input_size), 1000)\n",
    "        self.relu2 = torch.nn.ReLU()  # can't get named ReLU output otherwise\n",
    "\n",
    "    def forward(self, x):\n",
    "        x = self.conv1(x)\n",
    "        x = self.relu1(x)\n",
    "        x = x.view(x.size(0), -1)\n",
    "        x = self.linear(x)\n",
    "        x = self.relu2(x)\n",
    "        return x"
   ]
  },
  {
   "cell_type": "markdown",
   "metadata": {},
   "source": [
    "We need a simple function that instantiated the model for us and wraps it with the Brain-Model wrapper for Pytorch. Make sure to give the model a unique identifier. Then, we pass this wrapper to a ```ModelCommitment```, where we once again use the unique identifier we chose and specify which layers should be conidered for benchmarking. We are not neuroanatomically aligned, which is why we will try all layers."
   ]
  },
  {
   "cell_type": "code",
   "execution_count": 4,
   "metadata": {
    "colab": {
     "base_uri": "https://localhost:8080/",
     "height": 390
    },
    "id": "8jbCjndMwad_",
    "outputId": "cd1c7f66-e63a-4801-c45f-b54899119529"
   },
   "outputs": [],
   "source": [
    "def get_model():\n",
    "    model = MyModel()\n",
    "    preprocessing = functools.partial(load_preprocess_images, image_size=224)\n",
    "    activations_model = PytorchWrapper(identifier='my-model', model=MyModel(), preprocessing=preprocessing)\n",
    "    model = ModelCommitment(identifier='my-model', activations_model=activations_model,\n",
    "                            # specify layers to consider\n",
    "                            layers=['conv1', 'relu1', 'relu2'])\n",
    "    model.image_size = 224\n",
    "    return model"
   ]
  },
  {
   "cell_type": "markdown",
   "metadata": {},
   "source": [
    "Afterwards, we put the function into the model registry with the unique identifier we specified. Furthermore, we define a benchmark that we want to use. I chose this one arbitrarily. Essentially, we will check the neural predictivity based on the V4 region."
   ]
  },
  {
   "cell_type": "code",
   "execution_count": 5,
   "metadata": {
    "id": "qjvg50a1fp2I"
   },
   "outputs": [
    {
     "name": "stdout",
     "output_type": "stream",
     "text": [
      "Requirement already satisfied: numpy in ./.conda/lib/python3.11/site-packages (from -r /home/patrickstyll/Bachelorstudiengang-Software_and_Information_Engineering/7.Semester/Seminar_in_AI/brain_score_example/.conda/lib/python3.11/site-packages/brainscore_vision/metrics/regression_correlation/requirements.txt (line 1)) (1.26.4)\n",
      "Requirement already satisfied: scipy in /home/patrickstyll/.local/lib/python3.11/site-packages (from -r /home/patrickstyll/Bachelorstudiengang-Software_and_Information_Engineering/7.Semester/Seminar_in_AI/brain_score_example/.conda/lib/python3.11/site-packages/brainscore_vision/metrics/regression_correlation/requirements.txt (line 2)) (1.10.1)\n",
      "Requirement already satisfied: scikit-learn in ./.conda/lib/python3.11/site-packages (from -r /home/patrickstyll/Bachelorstudiengang-Software_and_Information_Engineering/7.Semester/Seminar_in_AI/brain_score_example/.conda/lib/python3.11/site-packages/brainscore_vision/metrics/regression_correlation/requirements.txt (line 3)) (1.6.0)\n",
      "Requirement already satisfied: joblib>=1.2.0 in /home/patrickstyll/.local/lib/python3.11/site-packages (from scikit-learn->-r /home/patrickstyll/Bachelorstudiengang-Software_and_Information_Engineering/7.Semester/Seminar_in_AI/brain_score_example/.conda/lib/python3.11/site-packages/brainscore_vision/metrics/regression_correlation/requirements.txt (line 3)) (1.2.0)\n",
      "Requirement already satisfied: threadpoolctl>=3.1.0 in /home/patrickstyll/.local/lib/python3.11/site-packages (from scikit-learn->-r /home/patrickstyll/Bachelorstudiengang-Software_and_Information_Engineering/7.Semester/Seminar_in_AI/brain_score_example/.conda/lib/python3.11/site-packages/brainscore_vision/metrics/regression_correlation/requirements.txt (line 3)) (3.1.0)\n",
      "Requirement already satisfied: scipy in /home/patrickstyll/.local/lib/python3.11/site-packages (from -r /home/patrickstyll/Bachelorstudiengang-Software_and_Information_Engineering/7.Semester/Seminar_in_AI/brain_score_example/.conda/lib/python3.11/site-packages/brainscore_vision/metrics/internal_consistency/requirements.txt (line 1)) (1.10.1)\n",
      "Requirement already satisfied: numpy<1.27.0,>=1.19.5 in ./.conda/lib/python3.11/site-packages (from scipy->-r /home/patrickstyll/Bachelorstudiengang-Software_and_Information_Engineering/7.Semester/Seminar_in_AI/brain_score_example/.conda/lib/python3.11/site-packages/brainscore_vision/metrics/internal_consistency/requirements.txt (line 1)) (1.26.4)\n"
     ]
    }
   ],
   "source": [
    "model_registry['my-model'] = get_model\n",
    "benchmark = benchmark_registry['MajajHong2015public.V4-pls']()"
   ]
  },
  {
   "cell_type": "markdown",
   "metadata": {},
   "source": [
    "We then just need to instantiate the model with our function and put it through the benchmark. Cross-Validation, dataset download etc. will all happen automatically, but it will take a while. Even for this simple model on only one benchmark, it took about 15 minutes."
   ]
  },
  {
   "cell_type": "code",
   "execution_count": 6,
   "metadata": {
    "id": "QWkfGytxfmfj"
   },
   "outputs": [
    {
     "name": "stderr",
     "output_type": "stream",
     "text": [
      "cross-validation: 100%|██████████| 10/10 [15:59<00:00, 95.93s/it] "
     ]
    },
    {
     "name": "stdout",
     "output_type": "stream",
     "text": [
      "<xarray.Score ()>\n",
      "array(0.13852261)\n",
      "Attributes:\n",
      "    error:    <xarray.Score ()>\\narray(0.00626453)\n",
      "    raw:      <xarray.Score ()>\\narray(0.3289301)\\nAttributes:\\n    raw:     ...\n",
      "    ceiling:  <xarray.DataArray ()>\\narray(0.88377819)\\nAttributes:\\n    raw:...\n"
     ]
    },
    {
     "name": "stderr",
     "output_type": "stream",
     "text": [
      "\n"
     ]
    }
   ],
   "source": [
    "model = get_model()\n",
    "score = benchmark(model)\n",
    "\n",
    "print(score)"
   ]
  },
  {
   "cell_type": "markdown",
   "metadata": {},
   "source": [
    "We receive a score of 0.13, which is (obviously) not very brain-like. The error is small, which is why we can be rather certain that the score is correct."
   ]
  },
  {
   "cell_type": "code",
   "execution_count": 17,
   "metadata": {},
   "outputs": [
    {
     "name": "stdout",
     "output_type": "stream",
     "text": [
      "Score: 0.13852260950600967\n",
      "Error: 0.006264534611139793\n",
      "Raw: 0.32893009629761405\n",
      "Ceiling: 0.8837781905660179\n"
     ]
    }
   ],
   "source": [
    "print(f\"Score: {score.item()}\")\n",
    "print(f\"Error: {score.error.item()}\")\n",
    "print(f\"Raw: {score.raw.item()}\")\n",
    "print(f\"Ceiling: {score.ceiling.item()}\")"
   ]
  },
  {
   "cell_type": "markdown",
   "metadata": {},
   "source": [
    "Next, we will try a simplified version of the CORnet-S model, as proposed in the original paper. We are given three convolutional layers that represent V1, V2 and V4 areas, and one linear layer for the output, which will represent the IT layer."
   ]
  },
  {
   "cell_type": "code",
   "execution_count": 37,
   "metadata": {},
   "outputs": [],
   "source": [
    "class CortexInspiredModel(nn.Module):\n",
    "    def __init__(self):\n",
    "        super(CortexInspiredModel, self).__init__()\n",
    "        # V1\n",
    "        self.conv1 = nn.Conv2d(in_channels=3, out_channels=64, kernel_size=7, stride=2, padding=3)\n",
    "        # V2\n",
    "        self.conv2 = nn.Conv2d(in_channels=64, out_channels=128, kernel_size=5, stride=2, padding=2)\n",
    "        # V4\n",
    "        self.conv3 = nn.Conv2d(in_channels=128, out_channels=256, kernel_size=3, stride=2, padding=1)\n",
    "        # IT\n",
    "        self.fc = nn.Linear(256 * 28 * 28, 1000)  # input 224x224 pixels\n",
    "\n",
    "    def forward(self, x):\n",
    "        x = F.relu(self.conv1(x))\n",
    "        x = F.relu(self.conv2(x))\n",
    "        x = F.relu(self.conv3(x))\n",
    "        x = x.view(x.size(0), -1)\n",
    "        x = self.fc(x)\n",
    "        return x"
   ]
  },
  {
   "cell_type": "markdown",
   "metadata": {},
   "source": [
    "We once again define a function to retrieve our model. We now have a model which is aligned to neuroanatomy. Since we are benchmarking on V4 neuronal recordings, we will directly map the third convolutional layer without trying out other layers."
   ]
  },
  {
   "cell_type": "code",
   "execution_count": 38,
   "metadata": {},
   "outputs": [],
   "source": [
    "def get_model():\n",
    "    model = CortexInspiredModel()\n",
    "    preprocessing = functools.partial(load_preprocess_images, image_size=224)\n",
    "    activations_model = PytorchWrapper(identifier='my-brain-model', model=model, preprocessing=preprocessing)\n",
    "    model = ModelCommitment(identifier='my-brain-model', activations_model=activations_model,\n",
    "                            layers=['conv3']) # directly map V4 for benchmark\n",
    "    model.image_size = 224\n",
    "    return model"
   ]
  },
  {
   "cell_type": "markdown",
   "metadata": {},
   "source": [
    "We once again put the model into the registry and re-instantiate the benchmark. Make sure to use a different identifier than before!"
   ]
  },
  {
   "cell_type": "code",
   "execution_count": 39,
   "metadata": {},
   "outputs": [
    {
     "name": "stdout",
     "output_type": "stream",
     "text": [
      "Requirement already satisfied: numpy in ./.conda/lib/python3.11/site-packages (from -r /home/patrickstyll/Bachelorstudiengang-Software_and_Information_Engineering/7.Semester/Seminar_in_AI/brain_score_example/.conda/lib/python3.11/site-packages/brainscore_vision/metrics/regression_correlation/requirements.txt (line 1)) (1.26.4)\n",
      "Requirement already satisfied: scipy in /home/patrickstyll/.local/lib/python3.11/site-packages (from -r /home/patrickstyll/Bachelorstudiengang-Software_and_Information_Engineering/7.Semester/Seminar_in_AI/brain_score_example/.conda/lib/python3.11/site-packages/brainscore_vision/metrics/regression_correlation/requirements.txt (line 2)) (1.10.1)\n",
      "Requirement already satisfied: scikit-learn in ./.conda/lib/python3.11/site-packages (from -r /home/patrickstyll/Bachelorstudiengang-Software_and_Information_Engineering/7.Semester/Seminar_in_AI/brain_score_example/.conda/lib/python3.11/site-packages/brainscore_vision/metrics/regression_correlation/requirements.txt (line 3)) (1.6.0)\n",
      "Requirement already satisfied: joblib>=1.2.0 in /home/patrickstyll/.local/lib/python3.11/site-packages (from scikit-learn->-r /home/patrickstyll/Bachelorstudiengang-Software_and_Information_Engineering/7.Semester/Seminar_in_AI/brain_score_example/.conda/lib/python3.11/site-packages/brainscore_vision/metrics/regression_correlation/requirements.txt (line 3)) (1.2.0)\n",
      "Requirement already satisfied: threadpoolctl>=3.1.0 in /home/patrickstyll/.local/lib/python3.11/site-packages (from scikit-learn->-r /home/patrickstyll/Bachelorstudiengang-Software_and_Information_Engineering/7.Semester/Seminar_in_AI/brain_score_example/.conda/lib/python3.11/site-packages/brainscore_vision/metrics/regression_correlation/requirements.txt (line 3)) (3.1.0)\n",
      "Requirement already satisfied: scipy in /home/patrickstyll/.local/lib/python3.11/site-packages (from -r /home/patrickstyll/Bachelorstudiengang-Software_and_Information_Engineering/7.Semester/Seminar_in_AI/brain_score_example/.conda/lib/python3.11/site-packages/brainscore_vision/metrics/internal_consistency/requirements.txt (line 1)) (1.10.1)\n",
      "Requirement already satisfied: numpy<1.27.0,>=1.19.5 in ./.conda/lib/python3.11/site-packages (from scipy->-r /home/patrickstyll/Bachelorstudiengang-Software_and_Information_Engineering/7.Semester/Seminar_in_AI/brain_score_example/.conda/lib/python3.11/site-packages/brainscore_vision/metrics/internal_consistency/requirements.txt (line 1)) (1.26.4)\n"
     ]
    }
   ],
   "source": [
    "model_registry['my-brain-model'] = get_model\n",
    "benchmark = benchmark_registry['MajajHong2015public.V4-pls']()"
   ]
  },
  {
   "cell_type": "markdown",
   "metadata": {},
   "source": [
    "We had a more complicated model this time, which is reflected in the time needed for benchmarking. This time, we needed ~32 minutes for checking only one layer instead of three."
   ]
  },
  {
   "cell_type": "code",
   "execution_count": 40,
   "metadata": {},
   "outputs": [
    {
     "name": "stderr",
     "output_type": "stream",
     "text": [
      "layers:   0%|          | 0/1 [00:00<?, ?it/s]"
     ]
    },
    {
     "name": "stdout",
     "output_type": "stream",
     "text": [
      "Requirement already satisfied: numpy in ./.conda/lib/python3.11/site-packages (from -r /home/patrickstyll/Bachelorstudiengang-Software_and_Information_Engineering/7.Semester/Seminar_in_AI/brain_score_example/.conda/lib/python3.11/site-packages/brainscore_vision/metrics/regression_correlation/requirements.txt (line 1)) (1.26.4)\n",
      "Requirement already satisfied: scipy in /home/patrickstyll/.local/lib/python3.11/site-packages (from -r /home/patrickstyll/Bachelorstudiengang-Software_and_Information_Engineering/7.Semester/Seminar_in_AI/brain_score_example/.conda/lib/python3.11/site-packages/brainscore_vision/metrics/regression_correlation/requirements.txt (line 2)) (1.10.1)\n",
      "Requirement already satisfied: scikit-learn in ./.conda/lib/python3.11/site-packages (from -r /home/patrickstyll/Bachelorstudiengang-Software_and_Information_Engineering/7.Semester/Seminar_in_AI/brain_score_example/.conda/lib/python3.11/site-packages/brainscore_vision/metrics/regression_correlation/requirements.txt (line 3)) (1.6.0)\n",
      "Requirement already satisfied: joblib>=1.2.0 in /home/patrickstyll/.local/lib/python3.11/site-packages (from scikit-learn->-r /home/patrickstyll/Bachelorstudiengang-Software_and_Information_Engineering/7.Semester/Seminar_in_AI/brain_score_example/.conda/lib/python3.11/site-packages/brainscore_vision/metrics/regression_correlation/requirements.txt (line 3)) (1.2.0)\n",
      "Requirement already satisfied: threadpoolctl>=3.1.0 in /home/patrickstyll/.local/lib/python3.11/site-packages (from scikit-learn->-r /home/patrickstyll/Bachelorstudiengang-Software_and_Information_Engineering/7.Semester/Seminar_in_AI/brain_score_example/.conda/lib/python3.11/site-packages/brainscore_vision/metrics/regression_correlation/requirements.txt (line 3)) (3.1.0)\n",
      "Requirement already satisfied: scipy in /home/patrickstyll/.local/lib/python3.11/site-packages (from -r /home/patrickstyll/Bachelorstudiengang-Software_and_Information_Engineering/7.Semester/Seminar_in_AI/brain_score_example/.conda/lib/python3.11/site-packages/brainscore_vision/metrics/internal_consistency/requirements.txt (line 1)) (1.10.1)\n",
      "Requirement already satisfied: numpy<1.27.0,>=1.19.5 in ./.conda/lib/python3.11/site-packages (from scipy->-r /home/patrickstyll/Bachelorstudiengang-Software_and_Information_Engineering/7.Semester/Seminar_in_AI/brain_score_example/.conda/lib/python3.11/site-packages/brainscore_vision/metrics/internal_consistency/requirements.txt (line 1)) (1.26.4)\n"
     ]
    },
    {
     "data": {
      "application/vnd.jupyter.widget-view+json": {
       "model_id": "a11cf5fc37f9493f8d224965336c8855",
       "version_major": 2,
       "version_minor": 0
      },
      "text/plain": [
       "activations:   0%|          | 0/3200 [00:00<?, ?it/s]"
      ]
     },
     "metadata": {},
     "output_type": "display_data"
    },
    {
     "name": "stderr",
     "output_type": "stream",
     "text": [
      "/home/patrickstyll/.local/lib/python3.11/site-packages/torchvision/io/image.py:13: UserWarning: Failed to load image Python extension: '/home/patrickstyll/.local/lib/python3.11/site-packages/torchvision/image.so: undefined symbol: _ZN3c1017RegisterOperatorsD1Ev'If you don't plan on using image functionality from `torchvision.io`, you can ignore this warning. Otherwise, there might be something wrong with your environment. Did you have `libjpeg` or `libpng` installed before building `torchvision` from source?\n",
      "  warn(\n"
     ]
    },
    {
     "data": {
      "application/vnd.jupyter.widget-view+json": {
       "model_id": "13bdc864c8164e5cbef00e57d35b4a27",
       "version_major": 2,
       "version_minor": 0
      },
      "text/plain": [
       "activations:   0%|          | 0/1024 [00:00<?, ?it/s]"
      ]
     },
     "metadata": {},
     "output_type": "display_data"
    },
    {
     "data": {
      "application/vnd.jupyter.widget-view+json": {
       "model_id": "d3ca7cf326b74a998c7fe44d777f9198",
       "version_major": 2,
       "version_minor": 0
      },
      "text/plain": [
       "layer packaging:   0%|          | 0/1 [00:00<?, ?it/s]"
      ]
     },
     "metadata": {},
     "output_type": "display_data"
    },
    {
     "name": "stderr",
     "output_type": "stream",
     "text": [
      "\n",
      "\u001b[A\n",
      "layer principal components: 100%|██████████| 1/1 [00:34<00:00, 34.40s/it]\n"
     ]
    },
    {
     "data": {
      "application/vnd.jupyter.widget-view+json": {
       "model_id": "0b4f7c8a7c3c4f2b9337cd888c36347f",
       "version_major": 2,
       "version_minor": 0
      },
      "text/plain": [
       "layer packaging:   0%|          | 0/1 [00:00<?, ?it/s]"
      ]
     },
     "metadata": {},
     "output_type": "display_data"
    },
    {
     "name": "stderr",
     "output_type": "stream",
     "text": [
      "cross-validation: 100%|██████████| 10/10 [00:15<00:00,  1.53s/it]\n",
      "layers: 100%|██████████| 1/1 [02:01<00:00, 121.75s/it]\n"
     ]
    },
    {
     "data": {
      "application/vnd.jupyter.widget-view+json": {
       "model_id": "e3c17b75a98f4d20aecfea3a26a63239",
       "version_major": 2,
       "version_minor": 0
      },
      "text/plain": [
       "activations:   0%|          | 0/3200 [00:00<?, ?it/s]"
      ]
     },
     "metadata": {},
     "output_type": "display_data"
    },
    {
     "data": {
      "application/vnd.jupyter.widget-view+json": {
       "model_id": "d851121d81fe42a0b1b510d12be52d3b",
       "version_major": 2,
       "version_minor": 0
      },
      "text/plain": [
       "layer packaging:   0%|          | 0/1 [00:00<?, ?it/s]"
      ]
     },
     "metadata": {},
     "output_type": "display_data"
    },
    {
     "name": "stderr",
     "output_type": "stream",
     "text": [
      "cross-validation: 100%|██████████| 10/10 [32:47<00:00, 196.79s/it]"
     ]
    },
    {
     "name": "stdout",
     "output_type": "stream",
     "text": [
      "<xarray.Score ()>\n",
      "array(0.3121215)\n",
      "Attributes:\n",
      "    error:    <xarray.Score ()>\\narray(0.00634253)\n",
      "    raw:      <xarray.Score ()>\\narray(0.49374774)\\nAttributes:\\n    raw:    ...\n",
      "    ceiling:  <xarray.DataArray ()>\\narray(0.88377819)\\nAttributes:\\n    raw:...\n"
     ]
    },
    {
     "name": "stderr",
     "output_type": "stream",
     "text": [
      "\n"
     ]
    }
   ],
   "source": [
    "model = get_model()\n",
    "score = benchmark(model)\n",
    "\n",
    "print(score)"
   ]
  },
  {
   "cell_type": "markdown",
   "metadata": {},
   "source": [
    "The results show that this kind of neuroanatomical alignment pays off to achieve brain-likeness. **With this very simple Feed-Forward Network, we already achieved a score of 0.312 instead of 0.138!**"
   ]
  },
  {
   "cell_type": "code",
   "execution_count": 41,
   "metadata": {},
   "outputs": [
    {
     "name": "stdout",
     "output_type": "stream",
     "text": [
      "Score: 0.3121214992564354\n",
      "Error: 0.006342530207302218\n",
      "Raw: 0.4937477416650767\n",
      "Ceiling: 0.8837781905660179\n"
     ]
    }
   ],
   "source": [
    "print(f\"Score: {score.item()}\")\n",
    "print(f\"Error: {score.error.item()}\")\n",
    "print(f\"Raw: {score.raw.item()}\")\n",
    "print(f\"Ceiling: {score.ceiling.item()}\")"
   ]
  }
 ],
 "metadata": {
  "colab": {
   "provenance": []
  },
  "kernelspec": {
   "display_name": "Python 3",
   "language": "python",
   "name": "python3"
  },
  "language_info": {
   "codemirror_mode": {
    "name": "ipython",
    "version": 3
   },
   "file_extension": ".py",
   "mimetype": "text/x-python",
   "name": "python",
   "nbconvert_exporter": "python",
   "pygments_lexer": "ipython3",
   "version": "3.11.11"
  }
 },
 "nbformat": 4,
 "nbformat_minor": 0
}
